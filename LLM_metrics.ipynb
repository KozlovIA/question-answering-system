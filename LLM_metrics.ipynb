{
 "cells": [
  {
   "cell_type": "code",
   "execution_count": 10,
   "id": "bd5b93ee",
   "metadata": {},
   "outputs": [],
   "source": [
    "from source.tinydb_manager import TinyDB_manager\n",
    "from benchmark.LLM_benchmark import AnswerEvaluator\n",
    "import pandas as pd\n",
    "import os"
   ]
  },
  {
   "cell_type": "code",
   "execution_count": 2,
   "id": "cceb22c5",
   "metadata": {},
   "outputs": [],
   "source": [
    "input_file = \"llama_3.2_3b_instruct.json\"\n",
    "# input_file = \"mistral_7b_instruct_v0.3.json\"\n",
    "# input_file = \"qwen2.5_7b_instruct.json\"\n",
    "# input_file = \"qwen2.5_7b_instruct_1m.json\"\n",
    "# input_file = \"llama_3.2_3b_instruct.json\""
   ]
  },
  {
   "cell_type": "code",
   "execution_count": 3,
   "id": "a2a66bde",
   "metadata": {},
   "outputs": [
    {
     "name": "stderr",
     "output_type": "stream",
     "text": [
      "Some weights of RobertaModel were not initialized from the model checkpoint at roberta-large and are newly initialized: ['roberta.pooler.dense.bias', 'roberta.pooler.dense.weight']\n",
      "You should probably TRAIN this model on a down-stream task to be able to use it for predictions and inference.\n"
     ]
    }
   ],
   "source": [
    "tiny_config = f\"benchmark/output_LLM/{input_file}\"\n",
    "\n",
    "tiny_manager = TinyDB_manager(tiny_config)\n",
    "bench = AnswerEvaluator(data=tiny_manager.export_json())\n",
    "metrics = bench.evaluate()"
   ]
  },
  {
   "cell_type": "code",
   "execution_count": 8,
   "id": "9b589457",
   "metadata": {},
   "outputs": [
    {
     "data": {
      "text/plain": [
       "{'exact_match_avg': 0.0,\n",
       " 'f1_avg': 0.08785962710412205,\n",
       " 'rouge_l_avg': 0.101995330658011,\n",
       " 'bleu_avg': 0.007151081427922808,\n",
       " 'cosine_similarity_avg': 0.27286953,\n",
       " 'bertscore_f1_avg': -0.05072075377451256,\n",
       " 'quality_score_avg': 0.08693672082806346}"
      ]
     },
     "execution_count": 8,
     "metadata": {},
     "output_type": "execute_result"
    }
   ],
   "source": [
    "metrics[0]"
   ]
  },
  {
   "cell_type": "code",
   "execution_count": 11,
   "id": "03481917",
   "metadata": {},
   "outputs": [],
   "source": [
    "merged_dict = {**metrics[0], **metrics[2]}\n",
    "df = pd.DataFrame.from_dict(merged_dict, orient='index', columns=['score'])\n",
    "\n",
    "# Путь и имя выходного файла\n",
    "output_dir = 'benchmark/output_LLM'\n",
    "os.makedirs(output_dir, exist_ok=True)\n",
    "output_file = os.path.join(output_dir, input_file.replace('.json', '.xlsx'))\n",
    "\n",
    "# Сохранение в Excel\n",
    "df.to_excel(output_file)"
   ]
  },
  {
   "cell_type": "code",
   "execution_count": null,
   "id": "0360581c",
   "metadata": {},
   "outputs": [
    {
     "data": {
      "application/vnd.microsoft.datawrangler.viewer.v0+json": {
       "columns": [
        {
         "name": "index",
         "rawType": "object",
         "type": "string"
        },
        {
         "name": "llama_3.2_3b_instruct",
         "rawType": "float64",
         "type": "float"
        }
       ],
       "conversionMethod": "pd.DataFrame",
       "ref": "eb60130e-dcc9-4143-ae45-fc786d30874d",
       "rows": [
        [
         "exact_match_avg",
         "0.0"
        ],
        [
         "f1_avg",
         "0.08785962710412205"
        ],
        [
         "rouge_l_avg",
         "0.101995330658011"
        ],
        [
         "bleu_avg",
         "0.007151081427922808"
        ],
        [
         "cosine_similarity_avg",
         "0.2728695273399353"
        ],
        [
         "bertscore_f1_avg",
         "-0.05072075377451256"
        ],
        [
         "quality_score_avg",
         "0.08693672082806346"
        ],
        [
         "gen_time_avg",
         "4.995381789207459"
        ],
        [
         "gen_time_median",
         "4.987318634986877"
        ],
        [
         "gen_time_95th_percentile",
         "5.201154947280884"
        ]
       ],
       "shape": {
        "columns": 1,
        "rows": 10
       }
      },
      "text/html": [
       "<div>\n",
       "<style scoped>\n",
       "    .dataframe tbody tr th:only-of-type {\n",
       "        vertical-align: middle;\n",
       "    }\n",
       "\n",
       "    .dataframe tbody tr th {\n",
       "        vertical-align: top;\n",
       "    }\n",
       "\n",
       "    .dataframe thead th {\n",
       "        text-align: right;\n",
       "    }\n",
       "</style>\n",
       "<table border=\"1\" class=\"dataframe\">\n",
       "  <thead>\n",
       "    <tr style=\"text-align: right;\">\n",
       "      <th></th>\n",
       "      <th>llama_3.2_3b_instruct</th>\n",
       "    </tr>\n",
       "  </thead>\n",
       "  <tbody>\n",
       "    <tr>\n",
       "      <th>exact_match_avg</th>\n",
       "      <td>0.000000</td>\n",
       "    </tr>\n",
       "    <tr>\n",
       "      <th>f1_avg</th>\n",
       "      <td>0.087860</td>\n",
       "    </tr>\n",
       "    <tr>\n",
       "      <th>rouge_l_avg</th>\n",
       "      <td>0.101995</td>\n",
       "    </tr>\n",
       "    <tr>\n",
       "      <th>bleu_avg</th>\n",
       "      <td>0.007151</td>\n",
       "    </tr>\n",
       "    <tr>\n",
       "      <th>cosine_similarity_avg</th>\n",
       "      <td>0.272870</td>\n",
       "    </tr>\n",
       "    <tr>\n",
       "      <th>bertscore_f1_avg</th>\n",
       "      <td>-0.050721</td>\n",
       "    </tr>\n",
       "    <tr>\n",
       "      <th>quality_score_avg</th>\n",
       "      <td>0.086937</td>\n",
       "    </tr>\n",
       "    <tr>\n",
       "      <th>gen_time_avg</th>\n",
       "      <td>4.995382</td>\n",
       "    </tr>\n",
       "    <tr>\n",
       "      <th>gen_time_median</th>\n",
       "      <td>4.987319</td>\n",
       "    </tr>\n",
       "    <tr>\n",
       "      <th>gen_time_95th_percentile</th>\n",
       "      <td>5.201155</td>\n",
       "    </tr>\n",
       "  </tbody>\n",
       "</table>\n",
       "</div>"
      ],
      "text/plain": [
       "                          llama_3.2_3b_instruct\n",
       "exact_match_avg                        0.000000\n",
       "f1_avg                                 0.087860\n",
       "rouge_l_avg                            0.101995\n",
       "bleu_avg                               0.007151\n",
       "cosine_similarity_avg                  0.272870\n",
       "bertscore_f1_avg                      -0.050721\n",
       "quality_score_avg                      0.086937\n",
       "gen_time_avg                           4.995382\n",
       "gen_time_median                        4.987319\n",
       "gen_time_95th_percentile               5.201155"
      ]
     },
     "execution_count": 14,
     "metadata": {},
     "output_type": "execute_result"
    }
   ],
   "source": [
    "# --- Чтение всех Excel-файлов из папки и объединение ---\n",
    "\n",
    "output_dir = 'benchmark/output_LLM'\n",
    "# Получаем список всех .xlsx файлов\n",
    "files = [f for f in os.listdir(output_dir) if f.endswith('.xlsx')]\n",
    "\n",
    "# Загружаем каждый файл в DataFrame и переименовываем колонку в имя файла без расширения\n",
    "dfs = []\n",
    "for file in files:\n",
    "    filepath = os.path.join(output_dir, file)\n",
    "    df = pd.read_excel(filepath, index_col=0)\n",
    "    df.columns = [os.path.splitext(file)[0]]  # переименование колонки\n",
    "    dfs.append(df)\n",
    "\n",
    "# Объединение всех по индексу (метрикам)\n",
    "final_df = pd.concat(dfs, axis=1)\n",
    "\n",
    "\n",
    "final_df.to_excel(\"benchmark/comparison_llm.xlsx\")\n",
    "# Пример вывода\n",
    "final_df"
   ]
  }
 ],
 "metadata": {
  "kernelspec": {
   "display_name": "science_assistant",
   "language": "python",
   "name": "python3"
  },
  "language_info": {
   "codemirror_mode": {
    "name": "ipython",
    "version": 3
   },
   "file_extension": ".py",
   "mimetype": "text/x-python",
   "name": "python",
   "nbconvert_exporter": "python",
   "pygments_lexer": "ipython3",
   "version": "3.12.7"
  }
 },
 "nbformat": 4,
 "nbformat_minor": 5
}
