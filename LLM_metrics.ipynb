{
 "cells": [
  {
   "cell_type": "code",
   "execution_count": 1,
   "id": "bd5b93ee",
   "metadata": {},
   "outputs": [
    {
     "name": "stderr",
     "output_type": "stream",
     "text": [
      "C:\\Users\\Igorexy\\AppData\\Roaming\\Python\\Python312\\site-packages\\tqdm\\auto.py:21: TqdmWarning: IProgress not found. Please update jupyter and ipywidgets. See https://ipywidgets.readthedocs.io/en/stable/user_install.html\n",
      "  from .autonotebook import tqdm as notebook_tqdm\n"
     ]
    },
    {
     "name": "stdout",
     "output_type": "stream",
     "text": [
      "WARNING:tensorflow:From c:\\Users\\Igorexy\\anaconda3\\envs\\science_assistant\\Lib\\site-packages\\tf_keras\\src\\losses.py:2976: The name tf.losses.sparse_softmax_cross_entropy is deprecated. Please use tf.compat.v1.losses.sparse_softmax_cross_entropy instead.\n",
      "\n"
     ]
    },
    {
     "name": "stderr",
     "output_type": "stream",
     "text": [
      "[nltk_data] Downloading package punkt to C:\\Users\\Igorexy/nltk_data...\n",
      "[nltk_data]   Package punkt is already up-to-date!\n",
      "[nltk_data] Downloading package punkt_tab to\n",
      "[nltk_data]     C:\\Users\\Igorexy/nltk_data...\n",
      "[nltk_data]   Package punkt_tab is already up-to-date!\n"
     ]
    }
   ],
   "source": [
    "from source.tinydb_manager import TinyDB_manager\n",
    "from benchmark.LLM_benchmark import AnswerEvaluator\n",
    "import pandas as pd\n",
    "import os"
   ]
  },
  {
   "cell_type": "code",
   "execution_count": null,
   "id": "cceb22c5",
   "metadata": {},
   "outputs": [],
   "source": [
    "# input_file = \"llama_3.2_3b_instruct.json\"\n",
    "input_file = \"mistral_7b_instruct_v0.3.json\"\n",
    "# input_file = \"qwen2.5_7b_instruct.json\"\n",
    "# input_file = \"qwen2.5_7b_instruct_1m.json\"\n",
    "# input_file = \"qwen3_1.7b.json\"\n",
    "\n",
    "input_file = input_file.replace('-', '_')"
   ]
  },
  {
   "cell_type": "code",
   "execution_count": 6,
   "id": "a2a66bde",
   "metadata": {},
   "outputs": [
    {
     "name": "stderr",
     "output_type": "stream",
     "text": [
      "Some weights of RobertaModel were not initialized from the model checkpoint at roberta-large and are newly initialized: ['roberta.pooler.dense.bias', 'roberta.pooler.dense.weight']\n",
      "You should probably TRAIN this model on a down-stream task to be able to use it for predictions and inference.\n"
     ]
    }
   ],
   "source": [
    "tiny_config = f\"benchmark/output_LLM/{input_file}\"\n",
    "\n",
    "tiny_manager = TinyDB_manager(tiny_config)\n",
    "bench = AnswerEvaluator(data=tiny_manager.export_json())\n",
    "metrics = bench.evaluate()"
   ]
  },
  {
   "cell_type": "code",
   "execution_count": 7,
   "id": "03481917",
   "metadata": {},
   "outputs": [],
   "source": [
    "merged_dict = {**metrics[0], **metrics[2]}\n",
    "df = pd.DataFrame.from_dict(merged_dict, orient='index', columns=['score'])\n",
    "\n",
    "# Путь и имя выходного файла\n",
    "output_dir = 'benchmark/output_LLM'\n",
    "os.makedirs(output_dir, exist_ok=True)\n",
    "output_file = os.path.join(output_dir, input_file.replace('.json', '.xlsx'))\n",
    "\n",
    "# Сохранение в Excel\n",
    "df.to_excel(output_file)"
   ]
  },
  {
   "cell_type": "markdown",
   "id": "5d7a5428",
   "metadata": {},
   "source": [
    "# Чтение всех Excel-файлов из папки и объединение"
   ]
  },
  {
   "cell_type": "code",
   "execution_count": 9,
   "id": "0360581c",
   "metadata": {},
   "outputs": [
    {
     "data": {
      "text/html": [
       "<div>\n",
       "<style scoped>\n",
       "    .dataframe tbody tr th:only-of-type {\n",
       "        vertical-align: middle;\n",
       "    }\n",
       "\n",
       "    .dataframe tbody tr th {\n",
       "        vertical-align: top;\n",
       "    }\n",
       "\n",
       "    .dataframe thead th {\n",
       "        text-align: right;\n",
       "    }\n",
       "</style>\n",
       "<table border=\"1\" class=\"dataframe\">\n",
       "  <thead>\n",
       "    <tr style=\"text-align: right;\">\n",
       "      <th></th>\n",
       "      <th>mistral_7b_instruct_v0.3</th>\n",
       "      <th>qwen2.5_7b_instruct</th>\n",
       "      <th>qwen2.5_7b_instruct_1m</th>\n",
       "      <th>qwen3_1.7b</th>\n",
       "    </tr>\n",
       "  </thead>\n",
       "  <tbody>\n",
       "    <tr>\n",
       "      <th>f1_avg</th>\n",
       "      <td>0.084057</td>\n",
       "      <td>0.273534</td>\n",
       "      <td>0.248034</td>\n",
       "      <td>0.206777</td>\n",
       "    </tr>\n",
       "    <tr>\n",
       "      <th>rouge_l_avg</th>\n",
       "      <td>0.096896</td>\n",
       "      <td>0.311074</td>\n",
       "      <td>0.268135</td>\n",
       "      <td>0.248296</td>\n",
       "    </tr>\n",
       "    <tr>\n",
       "      <th>rouge_n_avg</th>\n",
       "      <td>0.241753</td>\n",
       "      <td>NaN</td>\n",
       "      <td>NaN</td>\n",
       "      <td>0.529027</td>\n",
       "    </tr>\n",
       "    <tr>\n",
       "      <th>bleu_avg</th>\n",
       "      <td>0.007732</td>\n",
       "      <td>0.078013</td>\n",
       "      <td>0.060993</td>\n",
       "      <td>0.050352</td>\n",
       "    </tr>\n",
       "    <tr>\n",
       "      <th>cosine_similarity_avg</th>\n",
       "      <td>0.229010</td>\n",
       "      <td>0.761226</td>\n",
       "      <td>0.715111</td>\n",
       "      <td>0.636403</td>\n",
       "    </tr>\n",
       "    <tr>\n",
       "      <th>bertscore_f1_avg</th>\n",
       "      <td>-0.070083</td>\n",
       "      <td>0.205342</td>\n",
       "      <td>0.135657</td>\n",
       "      <td>0.132355</td>\n",
       "    </tr>\n",
       "    <tr>\n",
       "      <th>quality_score_avg</th>\n",
       "      <td>0.101447</td>\n",
       "      <td>0.359055</td>\n",
       "      <td>0.313357</td>\n",
       "      <td>0.313448</td>\n",
       "    </tr>\n",
       "    <tr>\n",
       "      <th>gen_time_avg</th>\n",
       "      <td>9.571894</td>\n",
       "      <td>302.239571</td>\n",
       "      <td>300.215431</td>\n",
       "      <td>15.059553</td>\n",
       "    </tr>\n",
       "    <tr>\n",
       "      <th>gen_time_median</th>\n",
       "      <td>9.032991</td>\n",
       "      <td>280.448153</td>\n",
       "      <td>296.048041</td>\n",
       "      <td>11.818631</td>\n",
       "    </tr>\n",
       "    <tr>\n",
       "      <th>gen_time_95th_percentile</th>\n",
       "      <td>11.553661</td>\n",
       "      <td>724.604866</td>\n",
       "      <td>475.442678</td>\n",
       "      <td>17.148585</td>\n",
       "    </tr>\n",
       "  </tbody>\n",
       "</table>\n",
       "</div>"
      ],
      "text/plain": [
       "                          mistral_7b_instruct_v0.3  qwen2.5_7b_instruct  \\\n",
       "f1_avg                                    0.084057             0.273534   \n",
       "rouge_l_avg                               0.096896             0.311074   \n",
       "rouge_n_avg                               0.241753                  NaN   \n",
       "bleu_avg                                  0.007732             0.078013   \n",
       "cosine_similarity_avg                     0.229010             0.761226   \n",
       "bertscore_f1_avg                         -0.070083             0.205342   \n",
       "quality_score_avg                         0.101447             0.359055   \n",
       "gen_time_avg                              9.571894           302.239571   \n",
       "gen_time_median                           9.032991           280.448153   \n",
       "gen_time_95th_percentile                 11.553661           724.604866   \n",
       "\n",
       "                          qwen2.5_7b_instruct_1m  qwen3_1.7b  \n",
       "f1_avg                                  0.248034    0.206777  \n",
       "rouge_l_avg                             0.268135    0.248296  \n",
       "rouge_n_avg                                  NaN    0.529027  \n",
       "bleu_avg                                0.060993    0.050352  \n",
       "cosine_similarity_avg                   0.715111    0.636403  \n",
       "bertscore_f1_avg                        0.135657    0.132355  \n",
       "quality_score_avg                       0.313357    0.313448  \n",
       "gen_time_avg                          300.215431   15.059553  \n",
       "gen_time_median                       296.048041   11.818631  \n",
       "gen_time_95th_percentile              475.442678   17.148585  "
      ]
     },
     "execution_count": 9,
     "metadata": {},
     "output_type": "execute_result"
    }
   ],
   "source": [
    "# --- Чтение всех Excel-файлов из папки и объединение ---\n",
    "\n",
    "output_dir = 'benchmark/output_LLM'\n",
    "# Получаем список всех .xlsx файлов\n",
    "files = [f for f in os.listdir(output_dir) if f.endswith('.xlsx')]\n",
    "\n",
    "# Загружаем каждый файл в DataFrame и переименовываем колонку в имя файла без расширения\n",
    "dfs = []\n",
    "for file in files:\n",
    "    filepath = os.path.join(output_dir, file)\n",
    "    df = pd.read_excel(filepath, index_col=0)\n",
    "    df.columns = [os.path.splitext(file)[0]]  # переименование колонки\n",
    "    dfs.append(df)\n",
    "\n",
    "# Объединение всех по индексу (метрикам)\n",
    "final_df = pd.concat(dfs, axis=1)\n",
    "\n",
    "\n",
    "final_df.to_excel(\"benchmark/comparison_llm.xlsx\")\n",
    "# Пример вывода\n",
    "final_df"
   ]
  },
  {
   "cell_type": "code",
   "execution_count": null,
   "id": "76c872fc",
   "metadata": {},
   "outputs": [],
   "source": []
  }
 ],
 "metadata": {
  "kernelspec": {
   "display_name": "science_assistant",
   "language": "python",
   "name": "python3"
  },
  "language_info": {
   "codemirror_mode": {
    "name": "ipython",
    "version": 3
   },
   "file_extension": ".py",
   "mimetype": "text/x-python",
   "name": "python",
   "nbconvert_exporter": "python",
   "pygments_lexer": "ipython3",
   "version": "3.12.7"
  }
 },
 "nbformat": 4,
 "nbformat_minor": 5
}
