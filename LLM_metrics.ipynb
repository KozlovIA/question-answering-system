{
 "cells": [
  {
   "cell_type": "code",
   "execution_count": 1,
   "id": "bd5b93ee",
   "metadata": {},
   "outputs": [
    {
     "name": "stderr",
     "output_type": "stream",
     "text": [
      "C:\\Users\\Igorexy\\AppData\\Roaming\\Python\\Python312\\site-packages\\tqdm\\auto.py:21: TqdmWarning: IProgress not found. Please update jupyter and ipywidgets. See https://ipywidgets.readthedocs.io/en/stable/user_install.html\n",
      "  from .autonotebook import tqdm as notebook_tqdm\n"
     ]
    },
    {
     "name": "stdout",
     "output_type": "stream",
     "text": [
      "WARNING:tensorflow:From c:\\Users\\Igorexy\\anaconda3\\envs\\science_assistant\\Lib\\site-packages\\keras\\losses.py:2664: The name tf.losses.sparse_softmax_cross_entropy is deprecated. Please use tf.compat.v1.losses.sparse_softmax_cross_entropy instead.\n",
      "\n"
     ]
    },
    {
     "name": "stderr",
     "output_type": "stream",
     "text": [
      "[nltk_data] Downloading package punkt to C:\\Users\\Igorexy/nltk_data...\n",
      "[nltk_data]   Package punkt is already up-to-date!\n",
      "[nltk_data] Downloading package punkt_tab to\n",
      "[nltk_data]     C:\\Users\\Igorexy/nltk_data...\n",
      "[nltk_data]   Package punkt_tab is already up-to-date!\n"
     ]
    }
   ],
   "source": [
    "from source.tinydb_manager import TinyDB_manager\n",
    "from benchmark.LLM_benchmark import AnswerEvaluator\n",
    "import pandas as pd\n",
    "import os"
   ]
  },
  {
   "cell_type": "code",
   "execution_count": 2,
   "id": "cceb22c5",
   "metadata": {},
   "outputs": [],
   "source": [
    "# input_file = \"llama_3.2_3b_instruct.json\"\n",
    "# input_file = \"mistral_7b_instruct_v0.3.json\"\n",
    "# input_file = \"qwen2.5_7b_instruct.json\"\n",
    "input_file = \"qwen2.5_7b_instruct_1m.json\""
   ]
  },
  {
   "cell_type": "code",
   "execution_count": 3,
   "id": "a2a66bde",
   "metadata": {},
   "outputs": [
    {
     "name": "stderr",
     "output_type": "stream",
     "text": [
      "Some weights of RobertaModel were not initialized from the model checkpoint at roberta-large and are newly initialized: ['roberta.pooler.dense.bias', 'roberta.pooler.dense.weight']\n",
      "You should probably TRAIN this model on a down-stream task to be able to use it for predictions and inference.\n"
     ]
    }
   ],
   "source": [
    "tiny_config = f\"benchmark/output_LLM/{input_file}\"\n",
    "\n",
    "tiny_manager = TinyDB_manager(tiny_config)\n",
    "bench = AnswerEvaluator(data=tiny_manager.export_json())\n",
    "metrics = bench.evaluate()"
   ]
  },
  {
   "cell_type": "code",
   "execution_count": 4,
   "id": "03481917",
   "metadata": {},
   "outputs": [],
   "source": [
    "merged_dict = {**metrics[0], **metrics[2]}\n",
    "df = pd.DataFrame.from_dict(merged_dict, orient='index', columns=['score'])\n",
    "\n",
    "# Путь и имя выходного файла\n",
    "output_dir = 'benchmark/output_LLM'\n",
    "os.makedirs(output_dir, exist_ok=True)\n",
    "output_file = os.path.join(output_dir, input_file.replace('.json', '.xlsx'))\n",
    "\n",
    "# Сохранение в Excel\n",
    "df.to_excel(output_file)"
   ]
  },
  {
   "cell_type": "code",
   "execution_count": 5,
   "id": "0360581c",
   "metadata": {},
   "outputs": [
    {
     "data": {
      "application/vnd.microsoft.datawrangler.viewer.v0+json": {
       "columns": [
        {
         "name": "index",
         "rawType": "object",
         "type": "string"
        },
        {
         "name": "llama_3.2_3b_instruct",
         "rawType": "float64",
         "type": "float"
        },
        {
         "name": "mistral_7b_instruct_v0.3",
         "rawType": "float64",
         "type": "float"
        },
        {
         "name": "qwen2.5_7b_instruct",
         "rawType": "float64",
         "type": "float"
        },
        {
         "name": "qwen2.5_7b_instruct_1m",
         "rawType": "float64",
         "type": "float"
        }
       ],
       "conversionMethod": "pd.DataFrame",
       "ref": "ec43de60-737c-404b-bd86-fd15be7d2b6b",
       "rows": [
        [
         "f1_avg",
         "0.08785962710412205",
         "0.1321308562565484",
         "0.2735339540095518",
         "0.2480344484044233"
        ],
        [
         "rouge_l_avg",
         "0.101995330658011",
         "0.1731654033290661",
         "0.3110741383898887",
         "0.2681350878340441"
        ],
        [
         "bleu_avg",
         "0.007151081427922808",
         "0.02694575499006262",
         "0.07801340633001072",
         "0.06099313540999782"
        ],
        [
         "cosine_similarity_avg",
         "0.2728695273399353",
         "0.3413749039173126",
         "0.7612255215644836",
         "0.7151107788085938"
        ],
        [
         "bertscore_f1_avg",
         "-0.05072074669646099",
         "0.04106087710126303",
         "0.2053421679511666",
         "0.1356572529301047"
        ],
        [
         "quality_score_avg",
         "0.08693672295147893",
         "0.1534619795187535",
         "0.3590546087593601",
         "0.3133567334878126"
        ],
        [
         "gen_time_avg",
         "4.995381789207459",
         "11.10208252906799",
         "302.2395707941055",
         "300.2154308271408"
        ],
        [
         "gen_time_median",
         "4.987318634986877",
         "6.381834506988525",
         "280.44815325737",
         "296.048041343689"
        ],
        [
         "gen_time_95th_percentile",
         "5.201154947280884",
         "7.813445651531215",
         "724.6048655509941",
         "475.4426784396171"
        ]
       ],
       "shape": {
        "columns": 4,
        "rows": 9
       }
      },
      "text/html": [
       "<div>\n",
       "<style scoped>\n",
       "    .dataframe tbody tr th:only-of-type {\n",
       "        vertical-align: middle;\n",
       "    }\n",
       "\n",
       "    .dataframe tbody tr th {\n",
       "        vertical-align: top;\n",
       "    }\n",
       "\n",
       "    .dataframe thead th {\n",
       "        text-align: right;\n",
       "    }\n",
       "</style>\n",
       "<table border=\"1\" class=\"dataframe\">\n",
       "  <thead>\n",
       "    <tr style=\"text-align: right;\">\n",
       "      <th></th>\n",
       "      <th>llama_3.2_3b_instruct</th>\n",
       "      <th>mistral_7b_instruct_v0.3</th>\n",
       "      <th>qwen2.5_7b_instruct</th>\n",
       "      <th>qwen2.5_7b_instruct_1m</th>\n",
       "    </tr>\n",
       "  </thead>\n",
       "  <tbody>\n",
       "    <tr>\n",
       "      <th>f1_avg</th>\n",
       "      <td>0.087860</td>\n",
       "      <td>0.132131</td>\n",
       "      <td>0.273534</td>\n",
       "      <td>0.248034</td>\n",
       "    </tr>\n",
       "    <tr>\n",
       "      <th>rouge_l_avg</th>\n",
       "      <td>0.101995</td>\n",
       "      <td>0.173165</td>\n",
       "      <td>0.311074</td>\n",
       "      <td>0.268135</td>\n",
       "    </tr>\n",
       "    <tr>\n",
       "      <th>bleu_avg</th>\n",
       "      <td>0.007151</td>\n",
       "      <td>0.026946</td>\n",
       "      <td>0.078013</td>\n",
       "      <td>0.060993</td>\n",
       "    </tr>\n",
       "    <tr>\n",
       "      <th>cosine_similarity_avg</th>\n",
       "      <td>0.272870</td>\n",
       "      <td>0.341375</td>\n",
       "      <td>0.761226</td>\n",
       "      <td>0.715111</td>\n",
       "    </tr>\n",
       "    <tr>\n",
       "      <th>bertscore_f1_avg</th>\n",
       "      <td>-0.050721</td>\n",
       "      <td>0.041061</td>\n",
       "      <td>0.205342</td>\n",
       "      <td>0.135657</td>\n",
       "    </tr>\n",
       "    <tr>\n",
       "      <th>quality_score_avg</th>\n",
       "      <td>0.086937</td>\n",
       "      <td>0.153462</td>\n",
       "      <td>0.359055</td>\n",
       "      <td>0.313357</td>\n",
       "    </tr>\n",
       "    <tr>\n",
       "      <th>gen_time_avg</th>\n",
       "      <td>4.995382</td>\n",
       "      <td>11.102083</td>\n",
       "      <td>302.239571</td>\n",
       "      <td>300.215431</td>\n",
       "    </tr>\n",
       "    <tr>\n",
       "      <th>gen_time_median</th>\n",
       "      <td>4.987319</td>\n",
       "      <td>6.381835</td>\n",
       "      <td>280.448153</td>\n",
       "      <td>296.048041</td>\n",
       "    </tr>\n",
       "    <tr>\n",
       "      <th>gen_time_95th_percentile</th>\n",
       "      <td>5.201155</td>\n",
       "      <td>7.813446</td>\n",
       "      <td>724.604866</td>\n",
       "      <td>475.442678</td>\n",
       "    </tr>\n",
       "  </tbody>\n",
       "</table>\n",
       "</div>"
      ],
      "text/plain": [
       "                          llama_3.2_3b_instruct  mistral_7b_instruct_v0.3  \\\n",
       "f1_avg                                 0.087860                  0.132131   \n",
       "rouge_l_avg                            0.101995                  0.173165   \n",
       "bleu_avg                               0.007151                  0.026946   \n",
       "cosine_similarity_avg                  0.272870                  0.341375   \n",
       "bertscore_f1_avg                      -0.050721                  0.041061   \n",
       "quality_score_avg                      0.086937                  0.153462   \n",
       "gen_time_avg                           4.995382                 11.102083   \n",
       "gen_time_median                        4.987319                  6.381835   \n",
       "gen_time_95th_percentile               5.201155                  7.813446   \n",
       "\n",
       "                          qwen2.5_7b_instruct  qwen2.5_7b_instruct_1m  \n",
       "f1_avg                               0.273534                0.248034  \n",
       "rouge_l_avg                          0.311074                0.268135  \n",
       "bleu_avg                             0.078013                0.060993  \n",
       "cosine_similarity_avg                0.761226                0.715111  \n",
       "bertscore_f1_avg                     0.205342                0.135657  \n",
       "quality_score_avg                    0.359055                0.313357  \n",
       "gen_time_avg                       302.239571              300.215431  \n",
       "gen_time_median                    280.448153              296.048041  \n",
       "gen_time_95th_percentile           724.604866              475.442678  "
      ]
     },
     "execution_count": 5,
     "metadata": {},
     "output_type": "execute_result"
    }
   ],
   "source": [
    "# --- Чтение всех Excel-файлов из папки и объединение ---\n",
    "\n",
    "output_dir = 'benchmark/output_LLM'\n",
    "# Получаем список всех .xlsx файлов\n",
    "files = [f for f in os.listdir(output_dir) if f.endswith('.xlsx')]\n",
    "\n",
    "# Загружаем каждый файл в DataFrame и переименовываем колонку в имя файла без расширения\n",
    "dfs = []\n",
    "for file in files:\n",
    "    filepath = os.path.join(output_dir, file)\n",
    "    df = pd.read_excel(filepath, index_col=0)\n",
    "    df.columns = [os.path.splitext(file)[0]]  # переименование колонки\n",
    "    dfs.append(df)\n",
    "\n",
    "# Объединение всех по индексу (метрикам)\n",
    "final_df = pd.concat(dfs, axis=1)\n",
    "\n",
    "\n",
    "final_df.to_excel(\"benchmark/comparison_llm.xlsx\")\n",
    "# Пример вывода\n",
    "final_df"
   ]
  }
 ],
 "metadata": {
  "kernelspec": {
   "display_name": "science_assistant",
   "language": "python",
   "name": "python3"
  },
  "language_info": {
   "codemirror_mode": {
    "name": "ipython",
    "version": 3
   },
   "file_extension": ".py",
   "mimetype": "text/x-python",
   "name": "python",
   "nbconvert_exporter": "python",
   "pygments_lexer": "ipython3",
   "version": "3.12.7"
  }
 },
 "nbformat": 4,
 "nbformat_minor": 5
}
