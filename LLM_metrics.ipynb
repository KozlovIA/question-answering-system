{
 "cells": [
  {
   "cell_type": "code",
   "execution_count": 1,
   "id": "bd5b93ee",
   "metadata": {},
   "outputs": [
    {
     "name": "stderr",
     "output_type": "stream",
     "text": [
      "C:\\Users\\Igorexy\\AppData\\Roaming\\Python\\Python312\\site-packages\\tqdm\\auto.py:21: TqdmWarning: IProgress not found. Please update jupyter and ipywidgets. See https://ipywidgets.readthedocs.io/en/stable/user_install.html\n",
      "  from .autonotebook import tqdm as notebook_tqdm\n"
     ]
    },
    {
     "name": "stdout",
     "output_type": "stream",
     "text": [
      "WARNING:tensorflow:From c:\\Users\\Igorexy\\anaconda3\\envs\\science_assistant\\Lib\\site-packages\\tf_keras\\src\\losses.py:2976: The name tf.losses.sparse_softmax_cross_entropy is deprecated. Please use tf.compat.v1.losses.sparse_softmax_cross_entropy instead.\n",
      "\n"
     ]
    },
    {
     "name": "stderr",
     "output_type": "stream",
     "text": [
      "[nltk_data] Downloading package punkt to C:\\Users\\Igorexy/nltk_data...\n",
      "[nltk_data]   Package punkt is already up-to-date!\n",
      "[nltk_data] Downloading package punkt_tab to\n",
      "[nltk_data]     C:\\Users\\Igorexy/nltk_data...\n",
      "[nltk_data]   Package punkt_tab is already up-to-date!\n"
     ]
    }
   ],
   "source": [
    "from source.tinydb_manager import TinyDB_manager\n",
    "from benchmark.LLM_benchmark import AnswerEvaluator\n",
    "import pandas as pd\n",
    "import os"
   ]
  },
  {
   "cell_type": "code",
   "execution_count": 2,
   "id": "cceb22c5",
   "metadata": {},
   "outputs": [],
   "source": [
    "# input_file = \"llama_3.2_3b_instruct.json\"\n",
    "# input_file = \"mistral_7b_instruct_v0.3.json\"\n",
    "# input_file = \"qwen2.5_7b_instruct.json\"\n",
    "# input_file = \"qwen2.5_7b_instruct_1m.json\"\n",
    "input_file = \"qwen3_1.7b.json\"\n",
    "# input_file = \"deepseek_r1_distill_qwen_1.5b.json\"\n",
    "\n",
    "input_file = input_file.replace('-', '_')"
   ]
  },
  {
   "cell_type": "code",
   "execution_count": 3,
   "id": "d4e50545",
   "metadata": {},
   "outputs": [],
   "source": [
    "LANG = \"_RUS\"; lang='ru'\n",
    "# LANG = \"\"; lang='en'"
   ]
  },
  {
   "cell_type": "code",
   "execution_count": 4,
   "id": "a2a66bde",
   "metadata": {},
   "outputs": [],
   "source": [
    "tiny_config = f\"benchmark/output_LLM{LANG}/{input_file}\"\n",
    "\n",
    "tiny_manager = TinyDB_manager(tiny_config)\n",
    "bench = AnswerEvaluator(data=tiny_manager.export_json())\n",
    "metrics = bench.evaluate(lang=lang, weights = {\n",
    "                \"bertscore_f1\": 0.3,\n",
    "                \"cosine_similarity\": 0.2,\n",
    "                \"rouge_l\": 0.1,\n",
    "                \"rouge_n\": 0.1,\n",
    "                \"f1\": 0.2,\n",
    "                \"bleu\": 0.1,\n",
    "                # \"exact_match\": 0.0\n",
    "            })"
   ]
  },
  {
   "cell_type": "code",
   "execution_count": 5,
   "id": "03481917",
   "metadata": {},
   "outputs": [],
   "source": [
    "merged_dict = {**metrics[0], **metrics[2]}\n",
    "df = pd.DataFrame.from_dict(merged_dict, orient='index', columns=['score'])\n",
    "\n",
    "# Путь и имя выходного файла\n",
    "output_dir = f'benchmark/output_LLM{LANG}'\n",
    "os.makedirs(output_dir, exist_ok=True)\n",
    "output_file = os.path.join(output_dir, input_file.replace('.json', '.xlsx'))\n",
    "\n",
    "# Сохранение в Excel\n",
    "df.to_excel(output_file)"
   ]
  },
  {
   "cell_type": "code",
   "execution_count": 6,
   "id": "2674cc22",
   "metadata": {},
   "outputs": [
    {
     "data": {
      "text/html": [
       "<div>\n",
       "<style scoped>\n",
       "    .dataframe tbody tr th:only-of-type {\n",
       "        vertical-align: middle;\n",
       "    }\n",
       "\n",
       "    .dataframe tbody tr th {\n",
       "        vertical-align: top;\n",
       "    }\n",
       "\n",
       "    .dataframe thead th {\n",
       "        text-align: right;\n",
       "    }\n",
       "</style>\n",
       "<table border=\"1\" class=\"dataframe\">\n",
       "  <thead>\n",
       "    <tr style=\"text-align: right;\">\n",
       "      <th></th>\n",
       "      <th>score</th>\n",
       "    </tr>\n",
       "  </thead>\n",
       "  <tbody>\n",
       "    <tr>\n",
       "      <th>f1_avg</th>\n",
       "      <td>0.088811</td>\n",
       "    </tr>\n",
       "    <tr>\n",
       "      <th>rouge_l_avg</th>\n",
       "      <td>0.126097</td>\n",
       "    </tr>\n",
       "    <tr>\n",
       "      <th>rouge_n_avg</th>\n",
       "      <td>0.434245</td>\n",
       "    </tr>\n",
       "    <tr>\n",
       "      <th>bleu_avg</th>\n",
       "      <td>0.015927</td>\n",
       "    </tr>\n",
       "    <tr>\n",
       "      <th>cosine_similarity_avg</th>\n",
       "      <td>0.658556</td>\n",
       "    </tr>\n",
       "    <tr>\n",
       "      <th>bertscore_f1_avg</th>\n",
       "      <td>0.664973</td>\n",
       "    </tr>\n",
       "    <tr>\n",
       "      <th>quality_score_avg</th>\n",
       "      <td>0.406592</td>\n",
       "    </tr>\n",
       "    <tr>\n",
       "      <th>gen_time_avg</th>\n",
       "      <td>27.402604</td>\n",
       "    </tr>\n",
       "    <tr>\n",
       "      <th>gen_time_median</th>\n",
       "      <td>26.965793</td>\n",
       "    </tr>\n",
       "    <tr>\n",
       "      <th>gen_time_95th_percentile</th>\n",
       "      <td>34.963174</td>\n",
       "    </tr>\n",
       "  </tbody>\n",
       "</table>\n",
       "</div>"
      ],
      "text/plain": [
       "                              score\n",
       "f1_avg                     0.088811\n",
       "rouge_l_avg                0.126097\n",
       "rouge_n_avg                0.434245\n",
       "bleu_avg                   0.015927\n",
       "cosine_similarity_avg      0.658556\n",
       "bertscore_f1_avg           0.664973\n",
       "quality_score_avg          0.406592\n",
       "gen_time_avg              27.402604\n",
       "gen_time_median           26.965793\n",
       "gen_time_95th_percentile  34.963174"
      ]
     },
     "execution_count": 6,
     "metadata": {},
     "output_type": "execute_result"
    }
   ],
   "source": [
    "df"
   ]
  },
  {
   "cell_type": "markdown",
   "id": "5d7a5428",
   "metadata": {},
   "source": [
    "# Чтение всех Excel-файлов из папки и объединение"
   ]
  },
  {
   "cell_type": "code",
   "execution_count": 7,
   "id": "0360581c",
   "metadata": {},
   "outputs": [
    {
     "data": {
      "text/html": [
       "<div>\n",
       "<style scoped>\n",
       "    .dataframe tbody tr th:only-of-type {\n",
       "        vertical-align: middle;\n",
       "    }\n",
       "\n",
       "    .dataframe tbody tr th {\n",
       "        vertical-align: top;\n",
       "    }\n",
       "\n",
       "    .dataframe thead th {\n",
       "        text-align: right;\n",
       "    }\n",
       "</style>\n",
       "<table border=\"1\" class=\"dataframe\">\n",
       "  <thead>\n",
       "    <tr style=\"text-align: right;\">\n",
       "      <th></th>\n",
       "      <th>qwen3_1.7b</th>\n",
       "    </tr>\n",
       "  </thead>\n",
       "  <tbody>\n",
       "    <tr>\n",
       "      <th>f1_avg</th>\n",
       "      <td>0.088811</td>\n",
       "    </tr>\n",
       "    <tr>\n",
       "      <th>rouge_l_avg</th>\n",
       "      <td>0.126097</td>\n",
       "    </tr>\n",
       "    <tr>\n",
       "      <th>rouge_n_avg</th>\n",
       "      <td>0.434245</td>\n",
       "    </tr>\n",
       "    <tr>\n",
       "      <th>bleu_avg</th>\n",
       "      <td>0.015927</td>\n",
       "    </tr>\n",
       "    <tr>\n",
       "      <th>cosine_similarity_avg</th>\n",
       "      <td>0.658556</td>\n",
       "    </tr>\n",
       "    <tr>\n",
       "      <th>bertscore_f1_avg</th>\n",
       "      <td>0.664973</td>\n",
       "    </tr>\n",
       "    <tr>\n",
       "      <th>quality_score_avg</th>\n",
       "      <td>0.406592</td>\n",
       "    </tr>\n",
       "    <tr>\n",
       "      <th>gen_time_avg</th>\n",
       "      <td>27.402604</td>\n",
       "    </tr>\n",
       "    <tr>\n",
       "      <th>gen_time_median</th>\n",
       "      <td>26.965793</td>\n",
       "    </tr>\n",
       "    <tr>\n",
       "      <th>gen_time_95th_percentile</th>\n",
       "      <td>34.963174</td>\n",
       "    </tr>\n",
       "  </tbody>\n",
       "</table>\n",
       "</div>"
      ],
      "text/plain": [
       "                          qwen3_1.7b\n",
       "f1_avg                      0.088811\n",
       "rouge_l_avg                 0.126097\n",
       "rouge_n_avg                 0.434245\n",
       "bleu_avg                    0.015927\n",
       "cosine_similarity_avg       0.658556\n",
       "bertscore_f1_avg            0.664973\n",
       "quality_score_avg           0.406592\n",
       "gen_time_avg               27.402604\n",
       "gen_time_median            26.965793\n",
       "gen_time_95th_percentile   34.963174"
      ]
     },
     "execution_count": 7,
     "metadata": {},
     "output_type": "execute_result"
    }
   ],
   "source": [
    "# --- Чтение всех Excel-файлов из папки и объединение ---\n",
    "\n",
    "output_dir = f'benchmark/output_LLM{LANG}'\n",
    "# Получаем список всех .xlsx файлов\n",
    "files = [f for f in os.listdir(output_dir) if f.endswith('.xlsx')]\n",
    "\n",
    "# Загружаем каждый файл в DataFrame и переименовываем колонку в имя файла без расширения\n",
    "dfs = []\n",
    "for file in files:\n",
    "    filepath = os.path.join(output_dir, file)\n",
    "    df = pd.read_excel(filepath, index_col=0)\n",
    "    df.columns = [os.path.splitext(file)[0]]  # переименование колонки\n",
    "    dfs.append(df)\n",
    "\n",
    "# Объединение всех по индексу (метрикам)\n",
    "final_df = pd.concat(dfs, axis=1)\n",
    "\n",
    "\n",
    "final_df.to_excel(f\"benchmark/comparison_llm{LANG}.xlsx\")\n",
    "# Пример вывода\n",
    "final_df"
   ]
  }
 ],
 "metadata": {
  "kernelspec": {
   "display_name": "science_assistant",
   "language": "python",
   "name": "python3"
  },
  "language_info": {
   "codemirror_mode": {
    "name": "ipython",
    "version": 3
   },
   "file_extension": ".py",
   "mimetype": "text/x-python",
   "name": "python",
   "nbconvert_exporter": "python",
   "pygments_lexer": "ipython3",
   "version": "3.12.7"
  }
 },
 "nbformat": 4,
 "nbformat_minor": 5
}
