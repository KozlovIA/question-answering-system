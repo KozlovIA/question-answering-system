{
 "cells": [
  {
   "cell_type": "markdown",
   "metadata": {},
   "source": [
    "### Файл для просмотра векторной базы"
   ]
  },
  {
   "cell_type": "code",
   "execution_count": 2,
   "metadata": {},
   "outputs": [
    {
     "name": "stdout",
     "output_type": "stream",
     "text": [
      "questions_to_QA\n",
      "paraphrase-multilingual-MiniLM-L12-v2-embedding\n",
      "all-MiniLM-L6-v2-embedding\n",
      "all-mpnet-base-v2-embedding\n",
      "multi-qa-mpnet-base-dot-v1-embedding\n"
     ]
    }
   ],
   "source": [
    "import chromadb\n",
    "\n",
    "# Подключаемся к локальному хранилищу\n",
    "client = chromadb.PersistentClient(path=\"./chroma_storage\")\n",
    "\n",
    "# Получаем список всех коллекций\n",
    "collections = client.list_collections()\n",
    "\n",
    "# Выводим названия коллекций\n",
    "for collection in collections:\n",
    "    print(collection.name)\n"
   ]
  },
  {
   "cell_type": "code",
   "execution_count": 39,
   "metadata": {},
   "outputs": [],
   "source": [
    "CONFIG_PATH = \"config/embedding/questions_gen.yaml\"\n",
    "# CONFIG_PATH = \"config/embedding/all-MiniLM-L6-v2.yaml\"\n",
    "# CONFIG_PATH = \"config/embedding/all-mpnet-base-v2.yaml\"\n",
    "# CONFIG_PATH = \"config/embedding/multi-qa-mpnet-base-dot-v1.yaml\"\n",
    "# CONFIG_PATH = \"config/embedding/paraphrase-multilingual-MiniLM-L12-v2.yaml\""
   ]
  },
  {
   "cell_type": "code",
   "execution_count": 40,
   "metadata": {},
   "outputs": [],
   "source": [
    "import yaml\n",
    "with open(CONFIG_PATH, \"r\") as file:\n",
    "    config_db = yaml.safe_load(file)\n",
    "\n",
    "CHROMA_PATH = config_db[\"chroma_path\"]\n",
    "COLLECTION_NAME = config_db[\"collection_name\"]\n",
    "MODEL_NAME = config_db[\"model_name\"]"
   ]
  },
  {
   "cell_type": "code",
   "execution_count": 41,
   "metadata": {},
   "outputs": [],
   "source": [
    "from source.chroma_manager import ChromaDBManager"
   ]
  },
  {
   "cell_type": "code",
   "execution_count": 42,
   "metadata": {},
   "outputs": [
    {
     "data": {
      "text/plain": [
       "549"
      ]
     },
     "execution_count": 42,
     "metadata": {},
     "output_type": "execute_result"
    }
   ],
   "source": [
    "db_manager = ChromaDBManager(CHROMA_PATH, config_db[\"collection_name\"])\n",
    "len(db_manager.collection.get()['ids'])"
   ]
  },
  {
   "cell_type": "code",
   "execution_count": null,
   "metadata": {},
   "outputs": [],
   "source": []
  },
  {
   "cell_type": "markdown",
   "metadata": {},
   "source": [
    "# Проверка датасета"
   ]
  },
  {
   "cell_type": "code",
   "execution_count": 43,
   "metadata": {},
   "outputs": [
    {
     "name": "stdout",
     "output_type": "stream",
     "text": [
      "Число файлов: 549\n"
     ]
    }
   ],
   "source": [
    "import os\n",
    "\n",
    "def count_files_in_directory(directory):\n",
    "    count = 0\n",
    "    for _, _, files in os.walk(directory):\n",
    "        count += len(files)\n",
    "    return count\n",
    "\n",
    "directory = r\"E:\\ImportantFiles\\Documents\\University\\Magic App\\dataset\"\n",
    "print(f\"Число файлов: {count_files_in_directory(directory)}\")"
   ]
  },
  {
   "cell_type": "code",
   "execution_count": 46,
   "metadata": {},
   "outputs": [
    {
     "name": "stdout",
     "output_type": "stream",
     "text": [
      "Дубликатов не найдено.\n"
     ]
    }
   ],
   "source": [
    "import os\n",
    "import hashlib\n",
    "from collections import defaultdict\n",
    "\n",
    "def get_file_hash(file_path):\n",
    "    \"\"\"Вычисляет SHA-256 хеш файла.\"\"\"\n",
    "    hasher = hashlib.sha256()\n",
    "    with open(file_path, \"rb\") as f:\n",
    "        for chunk in iter(lambda: f.read(4096), b\"\"):\n",
    "            hasher.update(chunk)\n",
    "    return hasher.hexdigest()\n",
    "\n",
    "def find_duplicates(directory):\n",
    "    \"\"\"Находит дубликаты файлов в указанной директории (включая подпапки).\"\"\"\n",
    "    file_hashes = defaultdict(list)\n",
    "\n",
    "    # Рекурсивный обход папок\n",
    "    for root, _, files in os.walk(directory):\n",
    "        for file in files:\n",
    "            file_path = os.path.join(root, file)\n",
    "            file_hash = get_file_hash(file_path)\n",
    "            file_hashes[file_hash].append(file_path)\n",
    "\n",
    "    # Вывод дубликатов\n",
    "    duplicates = {h: paths for h, paths in file_hashes.items() if len(paths) > 1}\n",
    "\n",
    "    if duplicates:\n",
    "        print(\"Найдены дубликаты:\")\n",
    "        for paths in duplicates.values():\n",
    "            print(\"\\n\".join(paths), \"\\n\")\n",
    "    else:\n",
    "        print(\"Дубликатов не найдено.\")\n",
    "\n",
    "# Пример использования\n",
    "directory_path = r\"E:\\ImportantFiles\\Documents\\University\\Magic App\\dataset\"\n",
    "find_duplicates(directory_path)\n"
   ]
  }
 ],
 "metadata": {
  "kernelspec": {
   "display_name": "science_assistant",
   "language": "python",
   "name": "python3"
  },
  "language_info": {
   "codemirror_mode": {
    "name": "ipython",
    "version": 3
   },
   "file_extension": ".py",
   "mimetype": "text/x-python",
   "name": "python",
   "nbconvert_exporter": "python",
   "pygments_lexer": "ipython3",
   "version": "3.12.7"
  }
 },
 "nbformat": 4,
 "nbformat_minor": 2
}
