{
 "cells": [
  {
   "cell_type": "code",
   "execution_count": 7,
   "metadata": {},
   "outputs": [],
   "source": [
    "from source.chroma_manager import ChromaDBManager, CustomEmbeddingFunction\n",
    "from source.llm_manager import LMStudioClient\n",
    "from prompt.prompts import QuestionsToDoc\n",
    "from tqdm import tqdm\n",
    "import ast\n",
    "import json\n",
    "import logging\n",
    "\n",
    "DB_CONFIG_PATH = \"config/embedding/questions_gen.yaml\"\n",
    "MODEL_CONFIG_PATH = \"config/model_question_gen.yaml\"\n",
    "\n",
    "logging.basicConfig(filename=\"log/question_gen.log\", level=logging.ERROR, format=\"%(asctime)s - %(levelname)s - %(message)s\")\n",
    "\n",
    "\n",
    "# Инициализация менеджеров\n",
    "source_chroma = ChromaDBManager(DB_CONFIG_PATH)\n",
    "\n",
    "llm = LMStudioClient(MODEL_CONFIG_PATH)  # URL настроить под свой сервер\n",
    "\n",
    "# Извлечение всех документов\n",
    "all_documents = source_chroma.collection.get()\n",
    "doc_ids = all_documents.get(\"ids\", [])\n",
    "doc_texts = all_documents.get(\"documents\", [])\n",
    "doc_metadata = all_documents.get(\"metadatas\", [])"
   ]
  },
  {
   "cell_type": "code",
   "execution_count": 8,
   "metadata": {},
   "outputs": [
    {
     "data": {
      "text/plain": [
       "436"
      ]
     },
     "execution_count": 8,
     "metadata": {},
     "output_type": "execute_result"
    }
   ],
   "source": [
    "len(doc_ids)"
   ]
  },
  {
   "cell_type": "code",
   "execution_count": 9,
   "metadata": {},
   "outputs": [],
   "source": [
    "# doc_ids_batch = doc_ids[300:]\n",
    "# doc_texts_batch = doc_texts[300:]\n",
    "# doc_metadata_batch = doc_metadata[300:]"
   ]
  },
  {
   "cell_type": "code",
   "execution_count": 10,
   "metadata": {},
   "outputs": [],
   "source": [
    "def safe_str_to_dict(s: str):\n",
    "    \"\"\"\n",
    "    Преобразует строку в словарь, если возможно.\n",
    "    В противном случае возвращает False.\n",
    "    \"\"\"\n",
    "    try:\n",
    "        result = ast.literal_eval(s)\n",
    "        if isinstance(result, dict):\n",
    "            return result\n",
    "        return False\n",
    "    except (ValueError, SyntaxError):\n",
    "        return False"
   ]
  },
  {
   "cell_type": "code",
   "execution_count": 11,
   "metadata": {},
   "outputs": [
    {
     "data": {
      "text/plain": [
       "0"
      ]
     },
     "execution_count": 11,
     "metadata": {},
     "output_type": "execute_result"
    }
   ],
   "source": [
    "# Список ids где в метадате отсутвуют вопросы\n",
    "ids_to_generate = []\n",
    "for ids, metadatas in zip(doc_ids, doc_metadata):\n",
    "    if 'questions' not in list(metadatas.keys()):\n",
    "        ids_to_generate.append(ids)\n",
    "len(ids_to_generate)"
   ]
  },
  {
   "cell_type": "code",
   "execution_count": 5,
   "metadata": {},
   "outputs": [
    {
     "name": "stderr",
     "output_type": "stream",
     "text": [
      "0it [00:00, ?it/s]"
     ]
    },
    {
     "name": "stderr",
     "output_type": "stream",
     "text": [
      "32it [10:13, 25.34s/it]<unknown>:3: SyntaxWarning: invalid escape sequence '\\('\n",
      "<unknown>:4: SyntaxWarning: invalid escape sequence '\\('\n",
      "<unknown>:5: SyntaxWarning: invalid escape sequence '\\('\n",
      "39it [13:16, 28.94s/it]<unknown>:2: SyntaxWarning: invalid escape sequence '\\('\n",
      "<unknown>:3: SyntaxWarning: invalid escape sequence '\\('\n",
      "93it [57:31, 29.63s/it] <unknown>:3: SyntaxWarning: invalid escape sequence '\\('\n",
      "110it [1:05:56, 28.01s/it]<unknown>:3: SyntaxWarning: invalid escape sequence '\\('\n",
      "<unknown>:4: SyntaxWarning: invalid escape sequence '\\('\n",
      "<unknown>:5: SyntaxWarning: invalid escape sequence '\\('\n",
      "179it [1:48:26, 21.26s/it] <unknown>:3: SyntaxWarning: invalid escape sequence '\\('\n",
      "<unknown>:5: SyntaxWarning: invalid escape sequence '\\('\n",
      "220it [2:23:40, 22.79s/it] <unknown>:3: SyntaxWarning: invalid escape sequence '\\('\n",
      "232it [2:28:14, 25.46s/it]<unknown>:5: SyntaxWarning: invalid escape sequence '\\('\n",
      "250it [2:36:32, 32.17s/it]<unknown>:3: SyntaxWarning: invalid escape sequence '\\('\n",
      "269it [2:42:04, 19.54s/it]<unknown>:3: SyntaxWarning: invalid escape sequence '\\('\n",
      "<unknown>:5: SyntaxWarning: invalid escape sequence '\\('\n",
      "325it [3:07:33, 30.36s/it]<unknown>:3: SyntaxWarning: invalid escape sequence '\\('\n",
      "<unknown>:5: SyntaxWarning: invalid escape sequence '\\('\n",
      "341it [3:14:39, 27.53s/it]<unknown>:5: SyntaxWarning: invalid escape sequence '\\('\n",
      "387it [3:31:56, 16.44s/it]<unknown>:5: SyntaxWarning: invalid escape sequence '\\('\n",
      "436it [3:52:30, 32.00s/it]\n"
     ]
    }
   ],
   "source": [
    "for doc_id, doc_text, metadata in tqdm(zip(doc_ids, doc_texts, doc_metadata)):\n",
    "    if doc_id in ids_to_generate:\n",
    "        # Генерация вопросов через LLM\n",
    "        prompt = QuestionsToDoc.QUESTION_FORMATION.format(document=doc_text)\n",
    "        # print(repr(prompt))  # Выведет строку в raw-формате\n",
    "        questions = llm.post_completion(user_input=prompt)\n",
    "        llm.clear_context() # очищаем контекст\n",
    "        questions_dict = safe_str_to_dict(questions)\n",
    "        if questions_dict == False:\n",
    "            prompt = QuestionsToDoc.CORRECTING_DICKTIONARY.format(input=questions)\n",
    "            questions = llm.post_completion(user_input=prompt)\n",
    "            llm.clear_context() # очищаем контекст\n",
    "            questions_dict = safe_str_to_dict(questions)\n",
    "            if questions_dict == False:\n",
    "                print(\"Словарь не сгенерирован\")\n",
    "                print(questions)\n",
    "                logging.error(f\" doc_id={doc_id}: questions_dict={questions}\")\n",
    "                continue\n",
    "            \n",
    "        # Обновление метаданных\n",
    "        # print(\"Успешно\")\n",
    "        # print(questions_dict)\n",
    "        metadata[\"questions\"] = json.dumps(questions_dict)\n",
    "        source_chroma.update_document(document_id=doc_id, new_text=doc_text, new_metadata=metadata)"
   ]
  },
  {
   "cell_type": "code",
   "execution_count": null,
   "metadata": {},
   "outputs": [],
   "source": []
  }
 ],
 "metadata": {
  "kernelspec": {
   "display_name": "science_assistant",
   "language": "python",
   "name": "python3"
  },
  "language_info": {
   "codemirror_mode": {
    "name": "ipython",
    "version": 3
   },
   "file_extension": ".py",
   "mimetype": "text/x-python",
   "name": "python",
   "nbconvert_exporter": "python",
   "pygments_lexer": "ipython3",
   "version": "3.12.7"
  }
 },
 "nbformat": 4,
 "nbformat_minor": 2
}
