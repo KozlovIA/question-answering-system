{
 "cells": [
  {
   "cell_type": "code",
   "execution_count": 2,
   "metadata": {},
   "outputs": [],
   "source": [
    "from source.chroma_manager import ChromaDBManager, CustomEmbeddingFunction\n",
    "from tqdm import tqdm\n",
    "import yaml\n",
    "import sys\n",
    "import json"
   ]
  },
  {
   "cell_type": "code",
   "execution_count": 3,
   "metadata": {},
   "outputs": [],
   "source": [
    "CONFIG_PATH = \"config/embedding/all-MiniLM-L6-v2.yaml\"\n",
    "# CONFIG_PATH = \"config/embedding/all-mpnet-base-v2.yaml\"\n",
    "# CONFIG_PATH = \"config/embedding/multi-qa-mpnet-base-dot-v1.yaml\"\n",
    "# CONFIG_PATH = \"config/embedding/paraphrase-multilingual-MiniLM-L12-v2.yaml\"\n",
    "\n",
    "config_path_question = \"config/embedding/questions_gen.yaml\""
   ]
  },
  {
   "cell_type": "code",
   "execution_count": 4,
   "metadata": {},
   "outputs": [],
   "source": [
    "with open(CONFIG_PATH, \"r\") as file:\n",
    "    config = yaml.safe_load(file)\n",
    "\n",
    "CHROMA_PATH = config[\"chroma_path\"]\n",
    "COLLECTION_NAME = config[\"collection_name\"]\n",
    "MODEL_NAME = config[\"model_name\"]\n",
    "\n",
    "with open(config_path_question, \"r\") as file:\n",
    "    config_question_db = yaml.safe_load(file)\n",
    "\n",
    "CHROMA_PATH_QUESTION = config_question_db[\"chroma_path\"]\n",
    "COLLECTION_NAME_QUESTION = config_question_db[\"collection_name\"]\n",
    "MODEL_NAME_QUESTION = config_question_db[\"model_name\"]\n",
    "\n",
    "\n",
    "# Создаём менеджер с кастомной функцией эмбеддингов\n",
    "embedding_function = CustomEmbeddingFunction(model_name=MODEL_NAME)\n",
    "\n",
    "# Инициализируем менеджер с кастомными эмбеддингами\n",
    "model_chroma = ChromaDBManager(\n",
    "    storage_path=CHROMA_PATH,\n",
    "    collection_name=COLLECTION_NAME,\n",
    "    embedding_function=embedding_function\n",
    ")\n",
    "\n",
    "# Инициализируем менеджер с вопросами\n",
    "questions_chroma = ChromaDBManager(\n",
    "    storage_path=CHROMA_PATH_QUESTION,\n",
    "    collection_name=COLLECTION_NAME_QUESTION,\n",
    ")"
   ]
  },
  {
   "cell_type": "code",
   "execution_count": 5,
   "metadata": {},
   "outputs": [],
   "source": [
    "# Извлечение всех документов\n",
    "all_documents = questions_chroma.collection.get()\n",
    "doc_ids = all_documents.get(\"ids\", [])\n",
    "doc_metadata = all_documents.get(\"metadatas\", [])"
   ]
  },
  {
   "cell_type": "code",
   "execution_count": 6,
   "metadata": {},
   "outputs": [
    {
     "data": {
      "text/plain": [
       "549"
      ]
     },
     "execution_count": 6,
     "metadata": {},
     "output_type": "execute_result"
    }
   ],
   "source": [
    "len(doc_ids)"
   ]
  },
  {
   "cell_type": "code",
   "execution_count": 7,
   "metadata": {},
   "outputs": [],
   "source": [
    "doc_ids_batch = doc_ids[295:305]\n",
    "doc_metadata_batch = doc_metadata[295:305]"
   ]
  },
  {
   "cell_type": "code",
   "execution_count": 13,
   "metadata": {},
   "outputs": [
    {
     "name": "stderr",
     "output_type": "stream",
     "text": [
      "10it [00:00, 28.49it/s]\n"
     ]
    }
   ],
   "source": [
    "result = {}\n",
    "\n",
    "# Прогон идет по БД с вопросами\n",
    "for doc_id, metadata in tqdm(zip(doc_ids_batch, doc_metadata_batch)): \n",
    "\n",
    "    question_1 = eval(metadata['questions'])['question_1']\n",
    "    question_2 = eval(metadata['questions'])['question_2']\n",
    "    answer_1 = eval(metadata['questions'])['answer_1']\n",
    "    answer_2 = eval(metadata['questions'])['answer_2']\n",
    "    query_results_1 = model_chroma.query(question_1, n_results=3)\n",
    "    query_results_2 = model_chroma.query(question_2, n_results=3)\n",
    "    \n",
    "    position_1, position_2 = False, False\n",
    "\n",
    "    validation_1 = doc_id in query_results_1['ids'][0]\n",
    "    if validation_1:\n",
    "        position_1 = query_results_1['ids'][0].index(doc_id)\n",
    "\n",
    "    validation_2 = doc_id in query_results_2['ids'][0]\n",
    "    if validation_2:\n",
    "        position_2 = query_results_2['ids'][0].index(doc_id)\n",
    "    \n",
    "    temp_res = {\n",
    "        doc_id: {\n",
    "            \"question_1\": {\n",
    "                    \"search_ids\": query_results_1['ids'],\n",
    "                    \"validation\": validation_1,\n",
    "                    \"position\": position_1,\n",
    "                    \"question\": question_1,\n",
    "                    \"answer\": answer_1,\n",
    "                            },\n",
    "            \"question_2\": {\n",
    "                    \"search_ids\": query_results_2['ids'],\n",
    "                    \"validation\": validation_2,\n",
    "                    \"position\": position_2,\n",
    "                    \"question\": question_2,\n",
    "                    \"answer\": answer_2,\n",
    "            }\n",
    "        }\n",
    "    }\n",
    "    result.update(temp_res)\n",
    "\n",
    "output_filemane = \"benchmark/output_RAG/questions.json\"\n",
    "\n",
    "with open(output_filemane, \"w\", encoding=\"utf-8\") as f:\n",
    "    json.dump(result, f, indent=2, ensure_ascii=False)"
   ]
  },
  {
   "cell_type": "code",
   "execution_count": null,
   "metadata": {},
   "outputs": [],
   "source": []
  }
 ],
 "metadata": {
  "kernelspec": {
   "display_name": "science_assistant",
   "language": "python",
   "name": "python3"
  },
  "language_info": {
   "codemirror_mode": {
    "name": "ipython",
    "version": 3
   },
   "file_extension": ".py",
   "mimetype": "text/x-python",
   "name": "python",
   "nbconvert_exporter": "python",
   "pygments_lexer": "ipython3",
   "version": "3.12.7"
  }
 },
 "nbformat": 4,
 "nbformat_minor": 2
}
